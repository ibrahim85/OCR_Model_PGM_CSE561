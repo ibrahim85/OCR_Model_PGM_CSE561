{
 "cells": [
  {
   "cell_type": "code",
   "execution_count": 1,
   "metadata": {
    "collapsed": true
   },
   "outputs": [],
   "source": [
    "import json\n",
    "\n",
    "from libpgm.nodedata import NodeData\n",
    "from libpgm.graphskeleton import GraphSkeleton\n",
    "from libpgm.discretebayesiannetwork import DiscreteBayesianNetwork"
   ]
  },
  {
   "cell_type": "code",
   "execution_count": 49,
   "metadata": {
    "collapsed": true
   },
   "outputs": [],
   "source": [
    "nd = NodeData()\n",
    "skel = GraphSkeleton()\n",
    "nd.load(\"bayes_net/0.txt\")    # any input file\n",
    "skel.load(\"bayes_net/0.txt\")\n",
    "\n",
    "# topologically order graphskeleton\n",
    "skel.toporder()\n",
    "\n",
    "# load bayesian network\n",
    "bn = DiscreteBayesianNetwork(skel, nd)"
   ]
  },
  {
   "cell_type": "code",
   "execution_count": 50,
   "metadata": {
    "collapsed": false
   },
   "outputs": [
    {
     "data": {
      "text/plain": [
       "[[u'0', u'2'],\n",
       " [u'2', u'4'],\n",
       " [u'4', u'6'],\n",
       " [u'0', u'1'],\n",
       " [u'2', u'3'],\n",
       " [u'4', u'5'],\n",
       " [u'6', u'7']]"
      ]
     },
     "execution_count": 50,
     "metadata": {},
     "output_type": "execute_result"
    }
   ],
   "source": [
    "#result = bn.randomsample(10,{'1':'582','3':'969'})\n",
    "bn.E"
   ]
  },
  {
   "cell_type": "code",
   "execution_count": 51,
   "metadata": {
    "collapsed": false
   },
   "outputs": [
    {
     "data": {
      "text/plain": [
       "[u'0', u'2', u'4', u'6', u'7', u'5', u'3', u'1']"
      ]
     },
     "execution_count": 51,
     "metadata": {},
     "output_type": "execute_result"
    }
   ],
   "source": [
    "bn.V"
   ]
  },
  {
   "cell_type": "code",
   "execution_count": 54,
   "metadata": {
    "collapsed": false
   },
   "outputs": [],
   "source": [
    "bn.dictload('bayes_net/0.txt')\n"
   ]
  },
  {
   "cell_type": "code",
   "execution_count": null,
   "metadata": {
    "collapsed": false
   },
   "outputs": [],
   "source": []
  },
  {
   "cell_type": "code",
   "execution_count": 55,
   "metadata": {
    "collapsed": false
   },
   "outputs": [
    {
     "data": {
      "text/plain": [
       "0.001813482423735603"
      ]
     },
     "execution_count": 55,
     "metadata": {},
     "output_type": "execute_result"
    }
   ],
   "source": [
    "bn.specificquery({'0': ['a'], '2': ['d'], '4': ['a'], '6': ['d']},{'1': '582', '3': '969', '5': '582', '7': '969'})"
   ]
  },
  {
   "cell_type": "code",
   "execution_count": null,
   "metadata": {
    "collapsed": true
   },
   "outputs": [],
   "source": []
  }
 ],
 "metadata": {
  "kernelspec": {
   "display_name": "Python 2",
   "language": "python",
   "name": "python2"
  },
  "language_info": {
   "codemirror_mode": {
    "name": "ipython",
    "version": 2
   },
   "file_extension": ".py",
   "mimetype": "text/x-python",
   "name": "python",
   "nbconvert_exporter": "python",
   "pygments_lexer": "ipython2",
   "version": "2.7.6"
  }
 },
 "nbformat": 4,
 "nbformat_minor": 0
}
