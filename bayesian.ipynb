{
 "cells": [
  {
   "cell_type": "code",
   "execution_count": 27,
   "metadata": {
    "collapsed": true
   },
   "outputs": [],
   "source": [
    "import json\n",
    "\n",
    "from libpgm.nodedata import NodeData\n",
    "from libpgm.graphskeleton import GraphSkeleton\n",
    "from libpgm.discretebayesiannetwork import DiscreteBayesianNetwork"
   ]
  },
  {
   "cell_type": "code",
   "execution_count": 37,
   "metadata": {
    "collapsed": false
   },
   "outputs": [],
   "source": [
    "nd = NodeData()\n",
    "skel = GraphSkeleton()\n",
    "nd.load(\"bayes_net/0.txt\")    # any input file\n",
    "skel.load(\"bayes_net/0.txt\")\n",
    "\n",
    "# topologically order graphskeleton\n",
    "skel.toporder()\n",
    "\n",
    "# load bayesian network\n",
    "bn = DiscreteBayesianNetwork(skel, nd)\n",
    "CHARS = ['d', 'o', 'i', 'r', 'a', 'h', 't', 'n', 's', 'e']"
   ]
  },
  {
   "cell_type": "code",
   "execution_count": 45,
   "metadata": {
    "collapsed": false
   },
   "outputs": [
    {
     "data": {
      "text/plain": [
       "4.7374261351961886e-05"
      ]
     },
     "execution_count": 45,
     "metadata": {},
     "output_type": "execute_result"
    }
   ],
   "source": [
    "bn.specificquery({'0': ['s'], '2': ['s'], '4': ['d'], '6': ['e']},{'1': '582', '3': '969', '5': '582', '7': '969'})"
   ]
  },
  {
   "cell_type": "code",
   "execution_count": null,
   "metadata": {
    "collapsed": true
   },
   "outputs": [],
   "source": []
  }
 ],
 "metadata": {
  "kernelspec": {
   "display_name": "Python 2",
   "language": "python",
   "name": "python2"
  },
  "language_info": {
   "codemirror_mode": {
    "name": "ipython",
    "version": 2
   },
   "file_extension": ".py",
   "mimetype": "text/x-python",
   "name": "python",
   "nbconvert_exporter": "python",
   "pygments_lexer": "ipython2",
   "version": "2.7.6"
  }
 },
 "nbformat": 4,
 "nbformat_minor": 0
}
