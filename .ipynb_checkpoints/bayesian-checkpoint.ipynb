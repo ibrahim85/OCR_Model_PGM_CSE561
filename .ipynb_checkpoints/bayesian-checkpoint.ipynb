{
 "cells": [
  {
   "cell_type": "code",
   "execution_count": 27,
   "metadata": {
    "collapsed": true
   },
   "outputs": [],
   "source": [
    "import json\n",
    "\n",
    "from libpgm.nodedata import NodeData\n",
    "from libpgm.graphskeleton import GraphSkeleton\n",
    "from libpgm.discretebayesiannetwork import DiscreteBayesianNetwork"
   ]
  },
  {
   "cell_type": "code",
   "execution_count": 37,
   "metadata": {
    "collapsed": false
   },
   "outputs": [],
   "source": [
    "nd = NodeData()\n",
    "skel = GraphSkeleton()\n",
    "nd.load(\"bayes_net/0.txt\")    # any input file\n",
    "skel.load(\"bayes_net/0.txt\")\n",
    "\n",
    "# topologically order graphskeleton\n",
    "skel.toporder()\n",
    "\n",
    "# load bayesian network\n",
    "bn = DiscreteBayesianNetwork(skel, nd)\n",
    "CHARS = ['d', 'o', 'i', 'r', 'a', 'h', 't', 'n', 's', 'e']"
   ]
  },
  {
   "cell_type": "code",
   "execution_count": 41,
   "metadata": {
    "collapsed": false
   },
   "outputs": [
    {
     "ename": "TypeError",
     "evalue": "specificquery() takes exactly 3 arguments (2 given)",
     "output_type": "error",
     "traceback": [
      "\u001b[1;31m---------------------------------------------------------------------------\u001b[0m",
      "\u001b[1;31mTypeError\u001b[0m                                 Traceback (most recent call last)",
      "\u001b[1;32m<ipython-input-41-d1684e72feeb>\u001b[0m in \u001b[0;36m<module>\u001b[1;34m()\u001b[0m\n\u001b[1;32m----> 1\u001b[1;33m \u001b[1;32mprint\u001b[0m \u001b[0mbn\u001b[0m\u001b[1;33m.\u001b[0m\u001b[0mspecificquery\u001b[0m\u001b[1;33m(\u001b[0m\u001b[1;33m{\u001b[0m\u001b[1;34m'6'\u001b[0m\u001b[1;33m:\u001b[0m \u001b[1;33m[\u001b[0m\u001b[0mCHARS\u001b[0m\u001b[1;33m[\u001b[0m\u001b[1;36m0\u001b[0m\u001b[1;33m]\u001b[0m\u001b[1;33m]\u001b[0m\u001b[1;33m}\u001b[0m\u001b[1;33m)\u001b[0m\u001b[1;33m\u001b[0m\u001b[0m\n\u001b[0m\u001b[0;32m      2\u001b[0m \u001b[1;32mprint\u001b[0m \u001b[0mbn\u001b[0m\u001b[1;33m.\u001b[0m\u001b[0mspecificquery\u001b[0m\u001b[1;33m(\u001b[0m\u001b[1;33m{\u001b[0m\u001b[1;34m'6'\u001b[0m\u001b[1;33m:\u001b[0m \u001b[1;33m[\u001b[0m\u001b[0mCHARS\u001b[0m\u001b[1;33m[\u001b[0m\u001b[1;36m1\u001b[0m\u001b[1;33m]\u001b[0m\u001b[1;33m]\u001b[0m\u001b[1;33m}\u001b[0m\u001b[1;33m,\u001b[0m\u001b[1;33m{\u001b[0m\u001b[1;34m'1'\u001b[0m\u001b[1;33m:\u001b[0m \u001b[1;34m'582'\u001b[0m\u001b[1;33m,\u001b[0m \u001b[1;34m'3'\u001b[0m\u001b[1;33m:\u001b[0m \u001b[1;34m'969'\u001b[0m\u001b[1;33m,\u001b[0m \u001b[1;34m'5'\u001b[0m\u001b[1;33m:\u001b[0m \u001b[1;34m'582'\u001b[0m\u001b[1;33m,\u001b[0m \u001b[1;34m'7'\u001b[0m\u001b[1;33m:\u001b[0m \u001b[1;34m'969'\u001b[0m\u001b[1;33m}\u001b[0m\u001b[1;33m)\u001b[0m\u001b[1;33m\u001b[0m\u001b[0m\n\u001b[0;32m      3\u001b[0m \u001b[1;32mprint\u001b[0m \u001b[0mbn\u001b[0m\u001b[1;33m.\u001b[0m\u001b[0mspecificquery\u001b[0m\u001b[1;33m(\u001b[0m\u001b[1;33m{\u001b[0m\u001b[1;34m'6'\u001b[0m\u001b[1;33m:\u001b[0m \u001b[1;33m[\u001b[0m\u001b[0mCHARS\u001b[0m\u001b[1;33m[\u001b[0m\u001b[1;36m2\u001b[0m\u001b[1;33m]\u001b[0m\u001b[1;33m]\u001b[0m\u001b[1;33m}\u001b[0m\u001b[1;33m,\u001b[0m\u001b[1;33m{\u001b[0m\u001b[1;34m'1'\u001b[0m\u001b[1;33m:\u001b[0m \u001b[1;34m'582'\u001b[0m\u001b[1;33m,\u001b[0m \u001b[1;34m'3'\u001b[0m\u001b[1;33m:\u001b[0m \u001b[1;34m'969'\u001b[0m\u001b[1;33m,\u001b[0m \u001b[1;34m'5'\u001b[0m\u001b[1;33m:\u001b[0m \u001b[1;34m'582'\u001b[0m\u001b[1;33m,\u001b[0m \u001b[1;34m'7'\u001b[0m\u001b[1;33m:\u001b[0m \u001b[1;34m'969'\u001b[0m\u001b[1;33m}\u001b[0m\u001b[1;33m)\u001b[0m\u001b[1;33m\u001b[0m\u001b[0m\n\u001b[0;32m      4\u001b[0m \u001b[1;32mprint\u001b[0m \u001b[0mbn\u001b[0m\u001b[1;33m.\u001b[0m\u001b[0mspecificquery\u001b[0m\u001b[1;33m(\u001b[0m\u001b[1;33m{\u001b[0m\u001b[1;34m'6'\u001b[0m\u001b[1;33m:\u001b[0m \u001b[1;33m[\u001b[0m\u001b[0mCHARS\u001b[0m\u001b[1;33m[\u001b[0m\u001b[1;36m3\u001b[0m\u001b[1;33m]\u001b[0m\u001b[1;33m]\u001b[0m\u001b[1;33m}\u001b[0m\u001b[1;33m,\u001b[0m\u001b[1;33m{\u001b[0m\u001b[1;34m'1'\u001b[0m\u001b[1;33m:\u001b[0m \u001b[1;34m'582'\u001b[0m\u001b[1;33m,\u001b[0m \u001b[1;34m'3'\u001b[0m\u001b[1;33m:\u001b[0m \u001b[1;34m'969'\u001b[0m\u001b[1;33m,\u001b[0m \u001b[1;34m'5'\u001b[0m\u001b[1;33m:\u001b[0m \u001b[1;34m'582'\u001b[0m\u001b[1;33m,\u001b[0m \u001b[1;34m'7'\u001b[0m\u001b[1;33m:\u001b[0m \u001b[1;34m'969'\u001b[0m\u001b[1;33m}\u001b[0m\u001b[1;33m)\u001b[0m\u001b[1;33m\u001b[0m\u001b[0m\n\u001b[0;32m      5\u001b[0m \u001b[1;32mprint\u001b[0m \u001b[0mbn\u001b[0m\u001b[1;33m.\u001b[0m\u001b[0mspecificquery\u001b[0m\u001b[1;33m(\u001b[0m\u001b[1;33m{\u001b[0m\u001b[1;34m'6'\u001b[0m\u001b[1;33m:\u001b[0m \u001b[1;33m[\u001b[0m\u001b[0mCHARS\u001b[0m\u001b[1;33m[\u001b[0m\u001b[1;36m4\u001b[0m\u001b[1;33m]\u001b[0m\u001b[1;33m]\u001b[0m\u001b[1;33m}\u001b[0m\u001b[1;33m,\u001b[0m\u001b[1;33m{\u001b[0m\u001b[1;34m'1'\u001b[0m\u001b[1;33m:\u001b[0m \u001b[1;34m'582'\u001b[0m\u001b[1;33m,\u001b[0m \u001b[1;34m'3'\u001b[0m\u001b[1;33m:\u001b[0m \u001b[1;34m'969'\u001b[0m\u001b[1;33m,\u001b[0m \u001b[1;34m'5'\u001b[0m\u001b[1;33m:\u001b[0m \u001b[1;34m'582'\u001b[0m\u001b[1;33m,\u001b[0m \u001b[1;34m'7'\u001b[0m\u001b[1;33m:\u001b[0m \u001b[1;34m'969'\u001b[0m\u001b[1;33m}\u001b[0m\u001b[1;33m)\u001b[0m\u001b[1;33m\u001b[0m\u001b[0m\n",
      "\u001b[1;31mTypeError\u001b[0m: specificquery() takes exactly 3 arguments (2 given)"
     ]
    }
   ],
   "source": [
    "print bn.specificquery({'6': [CHARS[0]]},{'1': '582', '3': '969', '5': '582', '7': '969'})\n",
    "print bn.specificquery({'6': [CHARS[1]]},{'1': '582', '3': '969', '5': '582', '7': '969'})\n",
    "print bn.specificquery({'6': [CHARS[2]]},{'1': '582', '3': '969', '5': '582', '7': '969'})\n",
    "print bn.specificquery({'6': [CHARS[3]]},{'1': '582', '3': '969', '5': '582', '7': '969'})\n",
    "print bn.specificquery({'6': [CHARS[4]]},{'1': '582', '3': '969', '5': '582', '7': '969'})\n",
    "print bn.specificquery({'6': [CHARS[5]]},{'1': '582', '3': '969', '5': '582', '7': '969'})\n",
    "print bn.specificquery({'6': [CHARS[6]]},{'1': '582', '3': '969', '5': '582', '7': '969'})\n",
    "print bn.specificquery({'6': [CHARS[7]]},{'1': '582', '3': '969', '5': '582', '7': '969'})\n",
    "print bn.specificquery({'6': [CHARS[8]]},{'1': '582', '3': '969', '5': '582', '7': '969'})\n",
    "print bn.specificquery({'6': [CHARS[9]]},{'1': '582', '3': '969', '5': '582', '7': '969'})\n"
   ]
  },
  {
   "cell_type": "code",
   "execution_count": 40,
   "metadata": {
    "collapsed": false
   },
   "outputs": [
    {
     "name": "stdout",
     "output_type": "stream",
     "text": [
      "0.0500694889593\n",
      "0.00179003556697\n",
      "0.0056108034544\n",
      "0.0100098938338\n",
      "0.00451170367915\n",
      "0.00688020634065\n",
      "0.00459783265178\n",
      "0.0473089946959\n",
      "0.0388291941472\n",
      "0.00451629000162\n"
     ]
    }
   ],
   "source": [
    "print bn.specificquery({'4':[CHARS[0]],'6': [CHARS[9]]},{'1': '582', '3': '969', '5': '582', '7': '969'})\n",
    "print bn.specificquery({'4':[CHARS[1]],'6': [CHARS[9]]},{'1': '582', '3': '969', '5': '582', '7': '969'})\n",
    "print bn.specificquery({'4':[CHARS[2]],'6': [CHARS[9]]},{'1': '582', '3': '969', '5': '582', '7': '969'})\n",
    "print bn.specificquery({'4':[CHARS[3]],'6': [CHARS[9]]},{'1': '582', '3': '969', '5': '582', '7': '969'})\n",
    "print bn.specificquery({'4':[CHARS[4]],'6': [CHARS[9]]},{'1': '582', '3': '969', '5': '582', '7': '969'})\n",
    "print bn.specificquery({'4':[CHARS[5]],'6': [CHARS[9]]},{'1': '582', '3': '969', '5': '582', '7': '969'})\n",
    "print bn.specificquery({'4':[CHARS[6]],'6': [CHARS[9]]},{'1': '582', '3': '969', '5': '582', '7': '969'})\n",
    "print bn.specificquery({'4':[CHARS[7]],'6': [CHARS[9]]},{'1': '582', '3': '969', '5': '582', '7': '969'})\n",
    "print bn.specificquery({'4':[CHARS[8]],'6': [CHARS[9]]},{'1': '582', '3': '969', '5': '582', '7': '969'})\n",
    "print bn.specificquery({'4':[CHARS[9]],'6': [CHARS[9]]},{'1': '582', '3': '969', '5': '582', '7': '969'})"
   ]
  },
  {
   "cell_type": "code",
   "execution_count": null,
   "metadata": {
    "collapsed": true
   },
   "outputs": [],
   "source": []
  }
 ],
 "metadata": {
  "kernelspec": {
   "display_name": "Python 2",
   "language": "python",
   "name": "python2"
  },
  "language_info": {
   "codemirror_mode": {
    "name": "ipython",
    "version": 2
   },
   "file_extension": ".py",
   "mimetype": "text/x-python",
   "name": "python",
   "nbconvert_exporter": "python",
   "pygments_lexer": "ipython2",
   "version": "2.7.6"
  }
 },
 "nbformat": 4,
 "nbformat_minor": 0
}
